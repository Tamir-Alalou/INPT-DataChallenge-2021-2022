{
 "cells": [
  {
   "cell_type": "markdown",
   "metadata": {},
   "source": [
    "## Fait par : Taha Tamir - Ayoub Alalou"
   ]
  },
  {
   "cell_type": "code",
   "execution_count": 1,
   "metadata": {
    "_cell_guid": "b1076dfc-b9ad-4769-8c92-a6c4dae69d19",
    "_uuid": "8f2839f25d086af736a60e9eeb907d3b93b6e0e5",
    "execution": {
     "iopub.execute_input": "2021-12-08T23:39:35.273370Z",
     "iopub.status.busy": "2021-12-08T23:39:35.271807Z",
     "iopub.status.idle": "2021-12-08T23:42:12.420940Z",
     "shell.execute_reply": "2021-12-08T23:42:12.420286Z",
     "shell.execute_reply.started": "2021-12-08T23:27:15.554429Z"
    },
    "papermill": {
     "duration": 157.171924,
     "end_time": "2021-12-08T23:42:12.421123",
     "exception": false,
     "start_time": "2021-12-08T23:39:35.249199",
     "status": "completed"
    },
    "tags": []
   },
   "outputs": [],
   "source": [
    "import pandas as pd\n",
    "import numpy as np\n",
    "from PIL import Image\n",
    "from matplotlib.pyplot import imshow\n",
    "\n",
    "df = pd.read_csv(\"/kaggle/input/hand-gesture-recognition-2nd-edition/train.csv\") # read 10 lines from the training data file from working directory"
   ]
  },
  {
   "cell_type": "code",
   "execution_count": 2,
   "metadata": {
    "execution": {
     "iopub.execute_input": "2021-12-08T23:42:12.462697Z",
     "iopub.status.busy": "2021-12-08T23:42:12.462078Z",
     "iopub.status.idle": "2021-12-08T23:42:12.465240Z",
     "shell.execute_reply": "2021-12-08T23:42:12.465626Z",
     "shell.execute_reply.started": "2021-12-08T23:38:47.180221Z"
    },
    "papermill": {
     "duration": 0.026478,
     "end_time": "2021-12-08T23:42:12.465763",
     "exception": false,
     "start_time": "2021-12-08T23:42:12.439285",
     "status": "completed"
    },
    "tags": []
   },
   "outputs": [
    {
     "data": {
      "text/plain": [
       "(2999, 57183)"
      ]
     },
     "execution_count": 2,
     "metadata": {},
     "output_type": "execute_result"
    }
   ],
   "source": [
    "df.shape"
   ]
  },
  {
   "cell_type": "code",
   "execution_count": 3,
   "metadata": {
    "execution": {
     "iopub.execute_input": "2021-12-08T23:42:12.505322Z",
     "iopub.status.busy": "2021-12-08T23:42:12.504629Z",
     "iopub.status.idle": "2021-12-08T23:42:12.766519Z",
     "shell.execute_reply": "2021-12-08T23:42:12.766089Z",
     "shell.execute_reply.started": "2021-12-08T23:38:47.428258Z"
    },
    "papermill": {
     "duration": 0.283791,
     "end_time": "2021-12-08T23:42:12.766637",
     "exception": false,
     "start_time": "2021-12-08T23:42:12.482846",
     "status": "completed"
    },
    "tags": []
   },
   "outputs": [
    {
     "name": "stdout",
     "output_type": "stream",
     "text": [
      "Label: 13\n"
     ]
    },
    {
     "data": {
      "text/plain": [
       "<matplotlib.image.AxesImage at 0x7fa1d95462d0>"
      ]
     },
     "execution_count": 3,
     "metadata": {},
     "output_type": "execute_result"
    },
    {
     "data": {
      "image/png": "[encoded data removed]",
      "text/plain": [
       "<Figure size 432x288 with 1 Axes>"
      ]
     },
     "metadata": {
      "needs_background": "light"
     },
     "output_type": "display_data"
    }
   ],
   "source": [
    "i = 15 # set any valid index of an image\n",
    "label = df.values[i][1] # retrieve label from first colum in dataframe\n",
    "im_buf = df.values[i][2:] # create flat array of only the pixels of the given image \n",
    "#axis_len = int(np.sqrt(im_buf.shape[0])) # calculate the dimensions of the square image\n",
    "im_array = np.int8(np.reshape(im_buf, (211, 271))) # create a 2D array from flat array\n",
    "img = Image.fromarray(im_array, 'L') # convert to a PIL.Image object ('L' is for grayscale)\n",
    "\n",
    "print(f'Label: {label}')\n",
    "imshow(np.asarray(img))\n",
    "#img.show()"
   ]
  },
  {
   "cell_type": "code",
   "execution_count": 4,
   "metadata": {
    "execution": {
     "iopub.execute_input": "2021-12-08T23:42:12.807699Z",
     "iopub.status.busy": "2021-12-08T23:42:12.807010Z",
     "iopub.status.idle": "2021-12-08T23:42:12.809211Z",
     "shell.execute_reply": "2021-12-08T23:42:12.809604Z",
     "shell.execute_reply.started": "2021-12-08T23:38:47.743382Z"
    },
    "papermill": {
     "duration": 0.024706,
     "end_time": "2021-12-08T23:42:12.809749",
     "exception": false,
     "start_time": "2021-12-08T23:42:12.785043",
     "status": "completed"
    },
    "tags": []
   },
   "outputs": [],
   "source": [
    "images = np.zeros((len(df),211,271))"
   ]
  },
  {
   "cell_type": "code",
   "execution_count": 5,
   "metadata": {
    "execution": {
     "iopub.execute_input": "2021-12-08T23:42:12.854505Z",
     "iopub.status.busy": "2021-12-08T23:42:12.849044Z",
     "iopub.status.idle": "2021-12-08T23:42:14.634695Z",
     "shell.execute_reply": "2021-12-08T23:42:14.635799Z",
     "shell.execute_reply.started": "2021-12-08T23:38:48.016491Z"
    },
    "papermill": {
     "duration": 1.807692,
     "end_time": "2021-12-08T23:42:14.636009",
     "exception": false,
     "start_time": "2021-12-08T23:42:12.828317",
     "status": "completed"
    },
    "tags": []
   },
   "outputs": [
    {
     "name": "stdout",
     "output_type": "stream",
     "text": [
      "999\n",
      "1999\n"
     ]
    }
   ],
   "source": [
    "for i in range(len(df)) :\n",
    "#     label = df.values[i][1] # retrieve label from first colum in dataframe\n",
    "    im_buf = df.values[i][2:] # create flat array of only the pixels of the given image \n",
    "    #axis_len = int(np.sqrt(im_buf.shape[0])) # calculate the dimensions of the square image\n",
    "    images[i] = np.reshape(im_buf, (211, 271)) # create a 2D array from flat array\n",
    "    if (i+1)%1000==0:\n",
    "        print(i)"
   ]
  },
  {
   "cell_type": "code",
   "execution_count": 6,
   "metadata": {
    "execution": {
     "iopub.execute_input": "2021-12-08T23:42:14.704804Z",
     "iopub.status.busy": "2021-12-08T23:42:14.703812Z",
     "iopub.status.idle": "2021-12-08T23:42:19.478399Z",
     "shell.execute_reply": "2021-12-08T23:42:19.477909Z",
     "shell.execute_reply.started": "2021-12-08T23:38:49.497580Z"
    },
    "papermill": {
     "duration": 4.81078,
     "end_time": "2021-12-08T23:42:19.478531",
     "exception": false,
     "start_time": "2021-12-08T23:42:14.667751",
     "status": "completed"
    },
    "tags": []
   },
   "outputs": [],
   "source": [
    "import tensorflow as tf\n",
    "from tensorflow.keras.applications.resnet50 import ResNet50"
   ]
  },
  {
   "cell_type": "code",
   "execution_count": 7,
   "metadata": {
    "execution": {
     "iopub.execute_input": "2021-12-08T23:42:19.523624Z",
     "iopub.status.busy": "2021-12-08T23:42:19.523071Z",
     "iopub.status.idle": "2021-12-08T23:42:21.993734Z",
     "shell.execute_reply": "2021-12-08T23:42:21.994236Z",
     "shell.execute_reply.started": "2021-12-08T23:38:49.504357Z"
    },
    "papermill": {
     "duration": 2.496403,
     "end_time": "2021-12-08T23:42:21.994417",
     "exception": false,
     "start_time": "2021-12-08T23:42:19.498014",
     "status": "completed"
    },
    "tags": []
   },
   "outputs": [
    {
     "name": "stderr",
     "output_type": "stream",
     "text": [
      "2021-12-08 23:42:19.615001: I tensorflow/stream_executor/cuda/cuda_gpu_executor.cc:937] successful NUMA node read from SysFS had negative value (-1), but there must be at least one NUMA node, so returning NUMA node zero\n",
      "2021-12-08 23:42:19.711531: I tensorflow/stream_executor/cuda/cuda_gpu_executor.cc:937] successful NUMA node read from SysFS had negative value (-1), but there must be at least one NUMA node, so returning NUMA node zero\n",
      "2021-12-08 23:42:19.712305: I tensorflow/stream_executor/cuda/cuda_gpu_executor.cc:937] successful NUMA node read from SysFS had negative value (-1), but there must be at least one NUMA node, so returning NUMA node zero\n",
      "2021-12-08 23:42:19.713626: I tensorflow/core/platform/cpu_feature_guard.cc:142] This TensorFlow binary is optimized with oneAPI Deep Neural Network Library (oneDNN) to use the following CPU instructions in performance-critical operations:  AVX2 AVX512F FMA\n",
      "To enable them in other operations, rebuild TensorFlow with the appropriate compiler flags.\n",
      "2021-12-08 23:42:19.714420: I tensorflow/stream_executor/cuda/cuda_gpu_executor.cc:937] successful NUMA node read from SysFS had negative value (-1), but there must be at least one NUMA node, so returning NUMA node zero\n",
      "2021-12-08 23:42:19.715109: I tensorflow/stream_executor/cuda/cuda_gpu_executor.cc:937] successful NUMA node read from SysFS had negative value (-1), but there must be at least one NUMA node, so returning NUMA node zero\n",
      "2021-12-08 23:42:19.715774: I tensorflow/stream_executor/cuda/cuda_gpu_executor.cc:937] successful NUMA node read from SysFS had negative value (-1), but there must be at least one NUMA node, so returning NUMA node zero\n",
      "2021-12-08 23:42:21.489559: I tensorflow/stream_executor/cuda/cuda_gpu_executor.cc:937] successful NUMA node read from SysFS had negative value (-1), but there must be at least one NUMA node, so returning NUMA node zero\n",
      "2021-12-08 23:42:21.490476: I tensorflow/stream_executor/cuda/cuda_gpu_executor.cc:937] successful NUMA node read from SysFS had negative value (-1), but there must be at least one NUMA node, so returning NUMA node zero\n",
      "2021-12-08 23:42:21.491355: I tensorflow/stream_executor/cuda/cuda_gpu_executor.cc:937] successful NUMA node read from SysFS had negative value (-1), but there must be at least one NUMA node, so returning NUMA node zero\n",
      "2021-12-08 23:42:21.492031: I tensorflow/core/common_runtime/gpu/gpu_device.cc:1510] Created device /job:localhost/replica:0/task:0/device:GPU:0 with 15403 MB memory:  -> device: 0, name: Tesla P100-PCIE-16GB, pci bus id: 0000:00:04.0, compute capability: 6.0\n"
     ]
    }
   ],
   "source": [
    "from tensorflow import keras\n",
    "from tensorflow.keras import layers\n",
    "inputs = keras.Input(shape=(211, 271, 1))\n",
    "x = layers.Conv2D(filters=32, kernel_size=3, activation=\"relu\")(inputs)\n",
    "x = layers.MaxPooling2D(pool_size=2)(x)\n",
    "x = layers.Conv2D(filters=64, kernel_size=3, activation=\"relu\")(x)\n",
    "x = layers.MaxPooling2D(pool_size=2)(x)\n",
    "x = layers.Conv2D(filters=128, kernel_size=3, activation=\"relu\")(x)\n",
    "x = layers.Flatten()(x)\n",
    "outputs = layers.Dense(16, activation=\"softmax\")(x)\n",
    "model = keras.Model(inputs=inputs, outputs=outputs)"
   ]
  },
  {
   "cell_type": "code",
   "execution_count": 8,
   "metadata": {
    "execution": {
     "iopub.execute_input": "2021-12-08T23:42:22.071827Z",
     "iopub.status.busy": "2021-12-08T23:42:22.068151Z",
     "iopub.status.idle": "2021-12-08T23:42:22.077023Z",
     "shell.execute_reply": "2021-12-08T23:42:22.077997Z",
     "shell.execute_reply.started": "2021-12-08T23:38:49.553563Z"
    },
    "papermill": {
     "duration": 0.049083,
     "end_time": "2021-12-08T23:42:22.078178",
     "exception": false,
     "start_time": "2021-12-08T23:42:22.029095",
     "status": "completed"
    },
    "tags": []
   },
   "outputs": [
    {
     "name": "stdout",
     "output_type": "stream",
     "text": [
      "Model: \"model\"\n",
      "_________________________________________________________________\n",
      "Layer (type)                 Output Shape              Param #   \n",
      "=================================================================\n",
      "input_1 (InputLayer)         [(None, 211, 271, 1)]     0         \n",
      "_________________________________________________________________\n",
      "conv2d (Conv2D)              (None, 209, 269, 32)      320       \n",
      "_________________________________________________________________\n",
      "max_pooling2d (MaxPooling2D) (None, 104, 134, 32)      0         \n",
      "_________________________________________________________________\n",
      "conv2d_1 (Conv2D)            (None, 102, 132, 64)      18496     \n",
      "_________________________________________________________________\n",
      "max_pooling2d_1 (MaxPooling2 (None, 51, 66, 64)        0         \n",
      "_________________________________________________________________\n",
      "conv2d_2 (Conv2D)            (None, 49, 64, 128)       73856     \n",
      "_________________________________________________________________\n",
      "flatten (Flatten)            (None, 401408)            0         \n",
      "_________________________________________________________________\n",
      "dense (Dense)                (None, 16)                6422544   \n",
      "=================================================================\n",
      "Total params: 6,515,216\n",
      "Trainable params: 6,515,216\n",
      "Non-trainable params: 0\n",
      "_________________________________________________________________\n"
     ]
    }
   ],
   "source": [
    "model.summary()"
   ]
  },
  {
   "cell_type": "code",
   "execution_count": 9,
   "metadata": {
    "execution": {
     "iopub.execute_input": "2021-12-08T23:42:22.158694Z",
     "iopub.status.busy": "2021-12-08T23:42:22.158179Z",
     "iopub.status.idle": "2021-12-08T23:42:22.162527Z",
     "shell.execute_reply": "2021-12-08T23:42:22.162098Z",
     "shell.execute_reply.started": "2021-12-08T23:38:49.565227Z"
    },
    "papermill": {
     "duration": 0.052027,
     "end_time": "2021-12-08T23:42:22.162633",
     "exception": false,
     "start_time": "2021-12-08T23:42:22.110606",
     "status": "completed"
    },
    "tags": []
   },
   "outputs": [],
   "source": [
    "labels = np.array(df['label'])-1"
   ]
  },
  {
   "cell_type": "code",
   "execution_count": 10,
   "metadata": {
    "execution": {
     "iopub.execute_input": "2021-12-08T23:42:22.207683Z",
     "iopub.status.busy": "2021-12-08T23:42:22.206962Z",
     "iopub.status.idle": "2021-12-08T23:42:22.209429Z",
     "shell.execute_reply": "2021-12-08T23:42:22.209021Z",
     "shell.execute_reply.started": "2021-12-08T23:38:49.571166Z"
    },
    "papermill": {
     "duration": 0.027003,
     "end_time": "2021-12-08T23:42:22.209536",
     "exception": false,
     "start_time": "2021-12-08T23:42:22.182533",
     "status": "completed"
    },
    "tags": []
   },
   "outputs": [],
   "source": [
    "n_values = np.max(labels) + 1\n",
    "targets = np.eye(n_values)[labels]"
   ]
  },
  {
   "cell_type": "code",
   "execution_count": 11,
   "metadata": {
    "execution": {
     "iopub.execute_input": "2021-12-08T23:42:22.252573Z",
     "iopub.status.busy": "2021-12-08T23:42:22.252101Z",
     "iopub.status.idle": "2021-12-08T23:42:22.257032Z",
     "shell.execute_reply": "2021-12-08T23:42:22.256586Z",
     "shell.execute_reply.started": "2021-12-08T23:38:49.882069Z"
    },
    "papermill": {
     "duration": 0.028056,
     "end_time": "2021-12-08T23:42:22.257137",
     "exception": false,
     "start_time": "2021-12-08T23:42:22.229081",
     "status": "completed"
    },
    "tags": []
   },
   "outputs": [
    {
     "data": {
      "text/plain": [
       "(2999, 16)"
      ]
     },
     "execution_count": 11,
     "metadata": {},
     "output_type": "execute_result"
    }
   ],
   "source": [
    "targets.shape"
   ]
  },
  {
   "cell_type": "code",
   "execution_count": 12,
   "metadata": {
    "execution": {
     "iopub.execute_input": "2021-12-08T23:42:22.450787Z",
     "iopub.status.busy": "2021-12-08T23:42:22.449875Z",
     "iopub.status.idle": "2021-12-08T23:43:05.405987Z",
     "shell.execute_reply": "2021-12-08T23:43:05.405470Z",
     "shell.execute_reply.started": "2021-12-08T23:38:50.577514Z"
    },
    "papermill": {
     "duration": 43.127513,
     "end_time": "2021-12-08T23:43:05.406123",
     "exception": false,
     "start_time": "2021-12-08T23:42:22.278610",
     "status": "completed"
    },
    "tags": []
   },
   "outputs": [
    {
     "name": "stderr",
     "output_type": "stream",
     "text": [
      "2021-12-08 23:42:22.728765: W tensorflow/core/framework/cpu_allocator_impl.cc:80] Allocation of 685943276 exceeds 10% of free system memory.\n",
      "2021-12-08 23:42:23.456248: W tensorflow/core/framework/cpu_allocator_impl.cc:80] Allocation of 685943276 exceeds 10% of free system memory.\n",
      "2021-12-08 23:42:23.968740: I tensorflow/compiler/mlir/mlir_graph_optimization_pass.cc:185] None of the MLIR Optimization Passes are enabled (registered 2)\n"
     ]
    },
    {
     "name": "stdout",
     "output_type": "stream",
     "text": [
      "Epoch 1/10\n"
     ]
    },
    {
     "name": "stderr",
     "output_type": "stream",
     "text": [
      "2021-12-08 23:42:25.274681: I tensorflow/stream_executor/cuda/cuda_dnn.cc:369] Loaded cuDNN version 8005\n"
     ]
    },
    {
     "name": "stdout",
     "output_type": "stream",
     "text": [
      "47/47 [==============================] - 10s 68ms/step - loss: 15.4174 - accuracy: 0.8730\n",
      "Epoch 2/10\n",
      "47/47 [==============================] - 3s 55ms/step - loss: 0.0022 - accuracy: 0.9990\n",
      "Epoch 3/10\n",
      "47/47 [==============================] - 3s 55ms/step - loss: 1.9461e-05 - accuracy: 1.0000\n",
      "Epoch 4/10\n",
      "47/47 [==============================] - 3s 55ms/step - loss: 2.7060e-06 - accuracy: 1.0000\n",
      "Epoch 5/10\n",
      "47/47 [==============================] - 3s 56ms/step - loss: 1.7356e-06 - accuracy: 1.0000\n",
      "Epoch 6/10\n",
      "47/47 [==============================] - 3s 57ms/step - loss: 1.2118e-06 - accuracy: 1.0000\n",
      "Epoch 7/10\n",
      "47/47 [==============================] - 3s 55ms/step - loss: 9.0278e-07 - accuracy: 1.0000\n",
      "Epoch 8/10\n",
      "47/47 [==============================] - 3s 55ms/step - loss: 6.9450e-07 - accuracy: 1.0000\n",
      "Epoch 9/10\n",
      "47/47 [==============================] - 3s 56ms/step - loss: 5.4353e-07 - accuracy: 1.0000\n",
      "Epoch 10/10\n",
      "47/47 [==============================] - 3s 55ms/step - loss: 4.3963e-07 - accuracy: 1.0000\n"
     ]
    },
    {
     "data": {
      "text/plain": [
       "<keras.callbacks.History at 0x7fa1a9c44190>"
      ]
     },
     "execution_count": 12,
     "metadata": {},
     "output_type": "execute_result"
    }
   ],
   "source": [
    "model.compile(optimizer=\"adam\",\n",
    " loss=\"categorical_crossentropy\",\n",
    " metrics=[\"accuracy\"])\n",
    "model.fit(x=images, y=targets, epochs=10, batch_size=64)"
   ]
  },
  {
   "cell_type": "code",
   "execution_count": 13,
   "metadata": {
    "execution": {
     "iopub.execute_input": "2021-12-08T23:43:05.837415Z",
     "iopub.status.busy": "2021-12-08T23:43:05.836420Z",
     "iopub.status.idle": "2021-12-08T23:44:23.652230Z",
     "shell.execute_reply": "2021-12-08T23:44:23.651717Z",
     "shell.execute_reply.started": "2021-12-08T22:23:13.923975Z"
    },
    "papermill": {
     "duration": 78.064608,
     "end_time": "2021-12-08T23:44:23.652374",
     "exception": false,
     "start_time": "2021-12-08T23:43:05.587766",
     "status": "completed"
    },
    "tags": []
   },
   "outputs": [],
   "source": [
    "test = pd.read_csv(\"/kaggle/input/hand-gesture-recognition-2nd-edition/test.csv\")"
   ]
  },
  {
   "cell_type": "code",
   "execution_count": 14,
   "metadata": {
    "execution": {
     "iopub.execute_input": "2021-12-08T23:44:23.954637Z",
     "iopub.status.busy": "2021-12-08T23:44:23.953858Z",
     "iopub.status.idle": "2021-12-08T23:44:23.975922Z",
     "shell.execute_reply": "2021-12-08T23:44:23.975451Z",
     "shell.execute_reply.started": "2021-12-08T22:24:19.18378Z"
    },
    "papermill": {
     "duration": 0.17823,
     "end_time": "2021-12-08T23:44:23.976048",
     "exception": false,
     "start_time": "2021-12-08T23:44:23.797818",
     "status": "completed"
    },
    "tags": []
   },
   "outputs": [
    {
     "data": {
      "text/html": [
       "<div>\n",
       "<style scoped>\n",
       "    .dataframe tbody tr th:only-of-type {\n",
       "        vertical-align: middle;\n",
       "    }\n",
       "\n",
       "    .dataframe tbody tr th {\n",
       "        vertical-align: top;\n",
       "    }\n",
       "\n",
       "    .dataframe thead th {\n",
       "        text-align: right;\n",
       "    }\n",
       "</style>\n",
       "<table border=\"1\" class=\"dataframe\">\n",
       "  <thead>\n",
       "    <tr style=\"text-align: right;\">\n",
       "      <th></th>\n",
       "      <th>id</th>\n",
       "      <th>pixel0</th>\n",
       "      <th>pixel1</th>\n",
       "      <th>pixel2</th>\n",
       "      <th>pixel3</th>\n",
       "      <th>pixel4</th>\n",
       "      <th>pixel5</th>\n",
       "      <th>pixel6</th>\n",
       "      <th>pixel7</th>\n",
       "      <th>pixel8</th>\n",
       "      <th>...</th>\n",
       "      <th>pixel57171</th>\n",
       "      <th>pixel57172</th>\n",
       "      <th>pixel57173</th>\n",
       "      <th>pixel57174</th>\n",
       "      <th>pixel57175</th>\n",
       "      <th>pixel57176</th>\n",
       "      <th>pixel57177</th>\n",
       "      <th>pixel57178</th>\n",
       "      <th>pixel57179</th>\n",
       "      <th>pixel57180</th>\n",
       "    </tr>\n",
       "  </thead>\n",
       "  <tbody>\n",
       "    <tr>\n",
       "      <th>0</th>\n",
       "      <td>3000</td>\n",
       "      <td>0</td>\n",
       "      <td>0</td>\n",
       "      <td>0</td>\n",
       "      <td>0</td>\n",
       "      <td>0</td>\n",
       "      <td>0</td>\n",
       "      <td>0</td>\n",
       "      <td>0</td>\n",
       "      <td>0</td>\n",
       "      <td>...</td>\n",
       "      <td>0</td>\n",
       "      <td>0</td>\n",
       "      <td>0</td>\n",
       "      <td>0</td>\n",
       "      <td>0</td>\n",
       "      <td>0</td>\n",
       "      <td>0</td>\n",
       "      <td>0</td>\n",
       "      <td>0</td>\n",
       "      <td>0</td>\n",
       "    </tr>\n",
       "    <tr>\n",
       "      <th>1</th>\n",
       "      <td>3001</td>\n",
       "      <td>0</td>\n",
       "      <td>0</td>\n",
       "      <td>0</td>\n",
       "      <td>0</td>\n",
       "      <td>0</td>\n",
       "      <td>0</td>\n",
       "      <td>0</td>\n",
       "      <td>0</td>\n",
       "      <td>0</td>\n",
       "      <td>...</td>\n",
       "      <td>0</td>\n",
       "      <td>0</td>\n",
       "      <td>0</td>\n",
       "      <td>0</td>\n",
       "      <td>0</td>\n",
       "      <td>0</td>\n",
       "      <td>0</td>\n",
       "      <td>0</td>\n",
       "      <td>0</td>\n",
       "      <td>0</td>\n",
       "    </tr>\n",
       "    <tr>\n",
       "      <th>2</th>\n",
       "      <td>3002</td>\n",
       "      <td>0</td>\n",
       "      <td>0</td>\n",
       "      <td>0</td>\n",
       "      <td>0</td>\n",
       "      <td>0</td>\n",
       "      <td>0</td>\n",
       "      <td>0</td>\n",
       "      <td>0</td>\n",
       "      <td>0</td>\n",
       "      <td>...</td>\n",
       "      <td>0</td>\n",
       "      <td>0</td>\n",
       "      <td>0</td>\n",
       "      <td>0</td>\n",
       "      <td>0</td>\n",
       "      <td>0</td>\n",
       "      <td>0</td>\n",
       "      <td>0</td>\n",
       "      <td>0</td>\n",
       "      <td>0</td>\n",
       "    </tr>\n",
       "    <tr>\n",
       "      <th>3</th>\n",
       "      <td>3003</td>\n",
       "      <td>0</td>\n",
       "      <td>0</td>\n",
       "      <td>0</td>\n",
       "      <td>0</td>\n",
       "      <td>0</td>\n",
       "      <td>0</td>\n",
       "      <td>0</td>\n",
       "      <td>0</td>\n",
       "      <td>0</td>\n",
       "      <td>...</td>\n",
       "      <td>0</td>\n",
       "      <td>0</td>\n",
       "      <td>0</td>\n",
       "      <td>0</td>\n",
       "      <td>0</td>\n",
       "      <td>0</td>\n",
       "      <td>0</td>\n",
       "      <td>0</td>\n",
       "      <td>0</td>\n",
       "      <td>0</td>\n",
       "    </tr>\n",
       "    <tr>\n",
       "      <th>4</th>\n",
       "      <td>3004</td>\n",
       "      <td>0</td>\n",
       "      <td>0</td>\n",
       "      <td>0</td>\n",
       "      <td>0</td>\n",
       "      <td>0</td>\n",
       "      <td>0</td>\n",
       "      <td>0</td>\n",
       "      <td>0</td>\n",
       "      <td>0</td>\n",
       "      <td>...</td>\n",
       "      <td>0</td>\n",
       "      <td>0</td>\n",
       "      <td>0</td>\n",
       "      <td>0</td>\n",
       "      <td>0</td>\n",
       "      <td>0</td>\n",
       "      <td>0</td>\n",
       "      <td>0</td>\n",
       "      <td>0</td>\n",
       "      <td>0</td>\n",
       "    </tr>\n",
       "    <tr>\n",
       "      <th>...</th>\n",
       "      <td>...</td>\n",
       "      <td>...</td>\n",
       "      <td>...</td>\n",
       "      <td>...</td>\n",
       "      <td>...</td>\n",
       "      <td>...</td>\n",
       "      <td>...</td>\n",
       "      <td>...</td>\n",
       "      <td>...</td>\n",
       "      <td>...</td>\n",
       "      <td>...</td>\n",
       "      <td>...</td>\n",
       "      <td>...</td>\n",
       "      <td>...</td>\n",
       "      <td>...</td>\n",
       "      <td>...</td>\n",
       "      <td>...</td>\n",
       "      <td>...</td>\n",
       "      <td>...</td>\n",
       "      <td>...</td>\n",
       "      <td>...</td>\n",
       "    </tr>\n",
       "    <tr>\n",
       "      <th>994</th>\n",
       "      <td>3994</td>\n",
       "      <td>0</td>\n",
       "      <td>0</td>\n",
       "      <td>0</td>\n",
       "      <td>0</td>\n",
       "      <td>0</td>\n",
       "      <td>0</td>\n",
       "      <td>0</td>\n",
       "      <td>0</td>\n",
       "      <td>0</td>\n",
       "      <td>...</td>\n",
       "      <td>0</td>\n",
       "      <td>0</td>\n",
       "      <td>0</td>\n",
       "      <td>0</td>\n",
       "      <td>0</td>\n",
       "      <td>0</td>\n",
       "      <td>0</td>\n",
       "      <td>0</td>\n",
       "      <td>0</td>\n",
       "      <td>0</td>\n",
       "    </tr>\n",
       "    <tr>\n",
       "      <th>995</th>\n",
       "      <td>3995</td>\n",
       "      <td>0</td>\n",
       "      <td>0</td>\n",
       "      <td>0</td>\n",
       "      <td>0</td>\n",
       "      <td>0</td>\n",
       "      <td>0</td>\n",
       "      <td>0</td>\n",
       "      <td>0</td>\n",
       "      <td>0</td>\n",
       "      <td>...</td>\n",
       "      <td>0</td>\n",
       "      <td>0</td>\n",
       "      <td>0</td>\n",
       "      <td>0</td>\n",
       "      <td>0</td>\n",
       "      <td>0</td>\n",
       "      <td>0</td>\n",
       "      <td>0</td>\n",
       "      <td>0</td>\n",
       "      <td>0</td>\n",
       "    </tr>\n",
       "    <tr>\n",
       "      <th>996</th>\n",
       "      <td>3996</td>\n",
       "      <td>0</td>\n",
       "      <td>0</td>\n",
       "      <td>0</td>\n",
       "      <td>0</td>\n",
       "      <td>0</td>\n",
       "      <td>0</td>\n",
       "      <td>0</td>\n",
       "      <td>0</td>\n",
       "      <td>0</td>\n",
       "      <td>...</td>\n",
       "      <td>0</td>\n",
       "      <td>0</td>\n",
       "      <td>0</td>\n",
       "      <td>0</td>\n",
       "      <td>0</td>\n",
       "      <td>0</td>\n",
       "      <td>0</td>\n",
       "      <td>0</td>\n",
       "      <td>0</td>\n",
       "      <td>0</td>\n",
       "    </tr>\n",
       "    <tr>\n",
       "      <th>997</th>\n",
       "      <td>3997</td>\n",
       "      <td>0</td>\n",
       "      <td>0</td>\n",
       "      <td>0</td>\n",
       "      <td>0</td>\n",
       "      <td>0</td>\n",
       "      <td>0</td>\n",
       "      <td>0</td>\n",
       "      <td>0</td>\n",
       "      <td>0</td>\n",
       "      <td>...</td>\n",
       "      <td>0</td>\n",
       "      <td>0</td>\n",
       "      <td>0</td>\n",
       "      <td>0</td>\n",
       "      <td>0</td>\n",
       "      <td>0</td>\n",
       "      <td>0</td>\n",
       "      <td>0</td>\n",
       "      <td>0</td>\n",
       "      <td>0</td>\n",
       "    </tr>\n",
       "    <tr>\n",
       "      <th>998</th>\n",
       "      <td>3998</td>\n",
       "      <td>0</td>\n",
       "      <td>0</td>\n",
       "      <td>0</td>\n",
       "      <td>0</td>\n",
       "      <td>0</td>\n",
       "      <td>0</td>\n",
       "      <td>0</td>\n",
       "      <td>0</td>\n",
       "      <td>0</td>\n",
       "      <td>...</td>\n",
       "      <td>0</td>\n",
       "      <td>0</td>\n",
       "      <td>0</td>\n",
       "      <td>0</td>\n",
       "      <td>0</td>\n",
       "      <td>0</td>\n",
       "      <td>0</td>\n",
       "      <td>0</td>\n",
       "      <td>0</td>\n",
       "      <td>0</td>\n",
       "    </tr>\n",
       "  </tbody>\n",
       "</table>\n",
       "<p>999 rows × 57182 columns</p>\n",
       "</div>"
      ],
      "text/plain": [
       "       id  pixel0  pixel1  pixel2  pixel3  pixel4  pixel5  pixel6  pixel7  \\\n",
       "0    3000       0       0       0       0       0       0       0       0   \n",
       "1    3001       0       0       0       0       0       0       0       0   \n",
       "2    3002       0       0       0       0       0       0       0       0   \n",
       "3    3003       0       0       0       0       0       0       0       0   \n",
       "4    3004       0       0       0       0       0       0       0       0   \n",
       "..    ...     ...     ...     ...     ...     ...     ...     ...     ...   \n",
       "994  3994       0       0       0       0       0       0       0       0   \n",
       "995  3995       0       0       0       0       0       0       0       0   \n",
       "996  3996       0       0       0       0       0       0       0       0   \n",
       "997  3997       0       0       0       0       0       0       0       0   \n",
       "998  3998       0       0       0       0       0       0       0       0   \n",
       "\n",
       "     pixel8  ...  pixel57171  pixel57172  pixel57173  pixel57174  pixel57175  \\\n",
       "0         0  ...           0           0           0           0           0   \n",
       "1         0  ...           0           0           0           0           0   \n",
       "2         0  ...           0           0           0           0           0   \n",
       "3         0  ...           0           0           0           0           0   \n",
       "4         0  ...           0           0           0           0           0   \n",
       "..      ...  ...         ...         ...         ...         ...         ...   \n",
       "994       0  ...           0           0           0           0           0   \n",
       "995       0  ...           0           0           0           0           0   \n",
       "996       0  ...           0           0           0           0           0   \n",
       "997       0  ...           0           0           0           0           0   \n",
       "998       0  ...           0           0           0           0           0   \n",
       "\n",
       "     pixel57176  pixel57177  pixel57178  pixel57179  pixel57180  \n",
       "0             0           0           0           0           0  \n",
       "1             0           0           0           0           0  \n",
       "2             0           0           0           0           0  \n",
       "3             0           0           0           0           0  \n",
       "4             0           0           0           0           0  \n",
       "..          ...         ...         ...         ...         ...  \n",
       "994           0           0           0           0           0  \n",
       "995           0           0           0           0           0  \n",
       "996           0           0           0           0           0  \n",
       "997           0           0           0           0           0  \n",
       "998           0           0           0           0           0  \n",
       "\n",
       "[999 rows x 57182 columns]"
      ]
     },
     "execution_count": 14,
     "metadata": {},
     "output_type": "execute_result"
    }
   ],
   "source": [
    "test"
   ]
  },
  {
   "cell_type": "code",
   "execution_count": 15,
   "metadata": {
    "execution": {
     "iopub.execute_input": "2021-12-08T23:44:24.271811Z",
     "iopub.status.busy": "2021-12-08T23:44:24.270920Z",
     "iopub.status.idle": "2021-12-08T23:44:24.816054Z",
     "shell.execute_reply": "2021-12-08T23:44:24.815048Z",
     "shell.execute_reply.started": "2021-12-08T22:24:47.180232Z"
    },
    "papermill": {
     "duration": 0.69629,
     "end_time": "2021-12-08T23:44:24.816215",
     "exception": false,
     "start_time": "2021-12-08T23:44:24.119925",
     "status": "completed"
    },
    "tags": []
   },
   "outputs": [],
   "source": [
    "images_t = np.zeros((len(test),211,271))\n",
    "for i in range(len(test)) :\n",
    "#     label = df.values[i][1] # retrieve label from first colum in dataframe\n",
    "    im_buf = test.values[i][1:] # create flat array of only the pixels of the given image \n",
    "    #axis_len = int(np.sqrt(im_buf.shape[0])) # calculate the dimensions of the square image\n",
    "    images_t[i] = np.reshape(im_buf, (211, 271)) # create a 2D array from flat array\n",
    "    if (i+1)%1000==0:\n",
    "        print(i)"
   ]
  },
  {
   "cell_type": "code",
   "execution_count": 16,
   "metadata": {
    "execution": {
     "iopub.execute_input": "2021-12-08T23:44:25.119446Z",
     "iopub.status.busy": "2021-12-08T23:44:25.118408Z",
     "iopub.status.idle": "2021-12-08T23:44:26.030208Z",
     "shell.execute_reply": "2021-12-08T23:44:26.029725Z",
     "shell.execute_reply.started": "2021-12-08T22:25:29.058099Z"
    },
    "papermill": {
     "duration": 1.060872,
     "end_time": "2021-12-08T23:44:26.030334",
     "exception": false,
     "start_time": "2021-12-08T23:44:24.969462",
     "status": "completed"
    },
    "tags": []
   },
   "outputs": [],
   "source": [
    "y_test = model.predict(images_t)"
   ]
  },
  {
   "cell_type": "code",
   "execution_count": 17,
   "metadata": {
    "execution": {
     "iopub.execute_input": "2021-12-08T23:44:26.326899Z",
     "iopub.status.busy": "2021-12-08T23:44:26.325170Z",
     "iopub.status.idle": "2021-12-08T23:44:26.327511Z",
     "shell.execute_reply": "2021-12-08T23:44:26.327960Z",
     "shell.execute_reply.started": "2021-12-08T22:26:03.53006Z"
    },
    "papermill": {
     "duration": 0.153745,
     "end_time": "2021-12-08T23:44:26.328093",
     "exception": false,
     "start_time": "2021-12-08T23:44:26.174348",
     "status": "completed"
    },
    "tags": []
   },
   "outputs": [],
   "source": [
    "y_test = np.argmax(y_test,1)"
   ]
  },
  {
   "cell_type": "code",
   "execution_count": 18,
   "metadata": {
    "execution": {
     "iopub.execute_input": "2021-12-08T23:44:26.624524Z",
     "iopub.status.busy": "2021-12-08T23:44:26.622930Z",
     "iopub.status.idle": "2021-12-08T23:44:26.625225Z",
     "shell.execute_reply": "2021-12-08T23:44:26.625721Z",
     "shell.execute_reply.started": "2021-12-08T22:26:22.420712Z"
    },
    "papermill": {
     "duration": 0.151169,
     "end_time": "2021-12-08T23:44:26.625851",
     "exception": false,
     "start_time": "2021-12-08T23:44:26.474682",
     "status": "completed"
    },
    "tags": []
   },
   "outputs": [],
   "source": [
    "y_test+=1"
   ]
  },
  {
   "cell_type": "code",
   "execution_count": 19,
   "metadata": {
    "execution": {
     "iopub.execute_input": "2021-12-08T23:44:26.917826Z",
     "iopub.status.busy": "2021-12-08T23:44:26.917309Z",
     "iopub.status.idle": "2021-12-08T23:44:26.930145Z",
     "shell.execute_reply": "2021-12-08T23:44:26.929703Z",
     "shell.execute_reply.started": "2021-12-08T22:27:04.014297Z"
    },
    "papermill": {
     "duration": 0.161142,
     "end_time": "2021-12-08T23:44:26.930250",
     "exception": false,
     "start_time": "2021-12-08T23:44:26.769108",
     "status": "completed"
    },
    "tags": []
   },
   "outputs": [],
   "source": [
    "sample = pd.read_csv(\"/kaggle/input/hand-gesture-recognition-2nd-edition/sample_submission.csv\")"
   ]
  },
  {
   "cell_type": "code",
   "execution_count": 20,
   "metadata": {
    "execution": {
     "iopub.execute_input": "2021-12-08T23:44:27.227043Z",
     "iopub.status.busy": "2021-12-08T23:44:27.225479Z",
     "iopub.status.idle": "2021-12-08T23:44:27.227612Z",
     "shell.execute_reply": "2021-12-08T23:44:27.228054Z",
     "shell.execute_reply.started": "2021-12-08T22:27:50.287625Z"
    },
    "papermill": {
     "duration": 0.153359,
     "end_time": "2021-12-08T23:44:27.228181",
     "exception": false,
     "start_time": "2021-12-08T23:44:27.074822",
     "status": "completed"
    },
    "tags": []
   },
   "outputs": [],
   "source": [
    "submission = pd.DataFrame({'id':test.id,'label':y_test})"
   ]
  },
  {
   "cell_type": "code",
   "execution_count": 21,
   "metadata": {
    "execution": {
     "iopub.execute_input": "2021-12-08T23:44:27.521984Z",
     "iopub.status.busy": "2021-12-08T23:44:27.521042Z",
     "iopub.status.idle": "2021-12-08T23:44:27.527826Z",
     "shell.execute_reply": "2021-12-08T23:44:27.527370Z",
     "shell.execute_reply.started": "2021-12-08T22:28:58.875353Z"
    },
    "papermill": {
     "duration": 0.155198,
     "end_time": "2021-12-08T23:44:27.527936",
     "exception": false,
     "start_time": "2021-12-08T23:44:27.372738",
     "status": "completed"
    },
    "tags": []
   },
   "outputs": [],
   "source": [
    "submission.to_csv('submission.csv',index=False)"
   ]
  },
  {
   "cell_type": "code",
   "execution_count": null,
   "metadata": {
    "papermill": {
     "duration": 0.144104,
     "end_time": "2021-12-08T23:44:28.710333",
     "exception": false,
     "start_time": "2021-12-08T23:44:28.566229",
     "status": "completed"
    },
    "tags": []
   },
   "outputs": [],
   "source": []
  }
 ],
 "metadata": {
  "kernelspec": {
   "display_name": "Python 3",
   "language": "python",
   "name": "python3"
  },
  "language_info": {
   "codemirror_mode": {
    "name": "ipython",
    "version": 3
   },
   "file_extension": ".py",
   "mimetype": "text/x-python",
   "name": "python",
   "nbconvert_exporter": "python",
   "pygments_lexer": "ipython3",
   "version": "3.7.6"
  },
  "papermill": {
   "default_parameters": {},
   "duration": 305.470068,
   "end_time": "2021-12-08T23:44:32.241875",
   "environment_variables": {},
   "exception": null,
   "input_path": "__notebook__.ipynb",
   "output_path": "__notebook__.ipynb",
   "parameters": {},
   "start_time": "2021-12-08T23:39:26.771807",
   "version": "2.3.3"
  }
 },
 "nbformat": 4,
 "nbformat_minor": 5
}
