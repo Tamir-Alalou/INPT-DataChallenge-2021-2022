{
 "cells": [
  {
   "cell_type": "markdown",
   "metadata": {},
   "source": [
    "## Fait par : Taha Tamir - Ayoub Alalou"
   ]
  },
  {
   "cell_type": "code",
   "execution_count": null,
   "metadata": {
    "_cell_guid": "b1076dfc-b9ad-4769-8c92-a6c4dae69d19",
    "_uuid": "8f2839f25d086af736a60e9eeb907d3b93b6e0e5",
    "execution": {
     "iopub.execute_input": "2022-01-13T22:05:29.890088Z",
     "iopub.status.busy": "2022-01-13T22:05:29.88964Z",
     "iopub.status.idle": "2022-01-13T22:05:31.867645Z",
     "shell.execute_reply": "2022-01-13T22:05:31.866899Z",
     "shell.execute_reply.started": "2022-01-13T22:05:29.890011Z"
    }
   },
   "outputs": [],
   "source": [
    "import numpy as np \n",
    "import os \n",
    "import glob\n",
    "from tqdm.auto import tqdm\n",
    "import pandas as pd \n",
    "import re\n",
    "import tensorflow as tf\n",
    "from nltk.corpus import stopwords\n",
    "from nltk.tokenize import word_tokenize"
   ]
  },
  {
   "cell_type": "markdown",
   "metadata": {},
   "source": [
    "# Load all files"
   ]
  },
  {
   "cell_type": "code",
   "execution_count": null,
   "metadata": {
    "execution": {
     "iopub.execute_input": "2022-01-13T22:05:36.747355Z",
     "iopub.status.busy": "2022-01-13T22:05:36.746911Z",
     "iopub.status.idle": "2022-01-13T22:05:36.78804Z",
     "shell.execute_reply": "2022-01-13T22:05:36.787383Z",
     "shell.execute_reply.started": "2022-01-13T22:05:36.747318Z"
    }
   },
   "outputs": [],
   "source": [
    "mainPath = \"../input/cardiovascular-disease-identification-2nd/\"\n",
    "trainPath = \"../input/cardiovascular-disease-identification-2nd/data/data/train/*\"\n",
    "testPath =  \"../input/cardiovascular-disease-identification-2nd/data/data/test/*\"\n",
    "\n",
    "train = pd.read_csv(\"../input/cardiovascular-disease-identification-2nd/train.csv\")\n",
    "test = pd.read_csv(\"../input/cardiovascular-disease-identification-2nd/test.csv\")\n",
    "submission = pd.read_csv(\"../input/cardiovascular-disease-identification-2nd/sample_submission.csv\")"
   ]
  },
  {
   "cell_type": "code",
   "execution_count": null,
   "metadata": {
    "execution": {
     "iopub.execute_input": "2022-01-13T22:05:41.616855Z",
     "iopub.status.busy": "2022-01-13T22:05:41.616372Z",
     "iopub.status.idle": "2022-01-13T22:05:41.62611Z",
     "shell.execute_reply": "2022-01-13T22:05:41.624479Z",
     "shell.execute_reply.started": "2022-01-13T22:05:41.616815Z"
    }
   },
   "outputs": [],
   "source": [
    "train[\"text\"] = [\"\" for _ in  range(train.shape[0])]\n",
    "test[\"text\"] = [\"\" for _ in  range(test.shape[0])]"
   ]
  },
  {
   "cell_type": "code",
   "execution_count": null,
   "metadata": {
    "execution": {
     "iopub.execute_input": "2022-01-13T22:05:43.827516Z",
     "iopub.status.busy": "2022-01-13T22:05:43.826882Z",
     "iopub.status.idle": "2022-01-13T22:05:43.835501Z",
     "shell.execute_reply": "2022-01-13T22:05:43.834557Z",
     "shell.execute_reply.started": "2022-01-13T22:05:43.827476Z"
    }
   },
   "outputs": [],
   "source": [
    "classesPaths = glob.glob(trainPath)"
   ]
  },
  {
   "cell_type": "code",
   "execution_count": null,
   "metadata": {
    "execution": {
     "iopub.execute_input": "2022-01-13T22:06:04.232374Z",
     "iopub.status.busy": "2022-01-13T22:06:04.232116Z",
     "iopub.status.idle": "2022-01-13T22:06:04.242115Z",
     "shell.execute_reply": "2022-01-13T22:06:04.241249Z",
     "shell.execute_reply.started": "2022-01-13T22:06:04.232344Z"
    }
   },
   "outputs": [],
   "source": [
    "NUM_CLASSES = len(classesPaths)\n",
    "def load_train_text(train):\n",
    "    docs = [[] for i in range(NUM_CLASSES)]\n",
    "    for path_id in tqdm(range(NUM_CLASSES)):\n",
    "        \n",
    "        path = classesPaths[path_id]\n",
    "        docPaths = glob.glob(os.path.join(path,'*'))\n",
    "        for docPath in docPaths:\n",
    "            with open(docPath, 'r') as f:\n",
    "                text = f.read()\n",
    "            filename = int(docPath[71:])\n",
    "            indice = train[train.filename == filename].index\n",
    "            train.loc[indice,\"text\"] = text\n",
    "            #docs[path_id].append(text)\n",
    "            \n",
    "    #return docs\n",
    "\n",
    "def load_test_text(test):\n",
    "    docs = []\n",
    "    docPaths = glob.glob(testPath)\n",
    "    \n",
    "    for docPath in tqdm(docPaths):\n",
    "        with open(docPath, 'r') as f:\n",
    "            text = f.read()\n",
    "        filename = int(docPath[67:])\n",
    "        indice = test[test.filename == filename].index\n",
    "        test.loc[indice,\"text\"] = text\n",
    "        #docs.append(text)\n",
    "            \n",
    "    #return docs\n"
   ]
  },
  {
   "cell_type": "code",
   "execution_count": null,
   "metadata": {
    "execution": {
     "iopub.execute_input": "2022-01-13T22:06:05.695704Z",
     "iopub.status.busy": "2022-01-13T22:06:05.694867Z",
     "iopub.status.idle": "2022-01-13T22:06:33.232375Z",
     "shell.execute_reply": "2022-01-13T22:06:33.231637Z",
     "shell.execute_reply.started": "2022-01-13T22:06:05.69565Z"
    }
   },
   "outputs": [],
   "source": [
    "load_train_text(train)\n",
    "load_test_text(test)"
   ]
  },
  {
   "cell_type": "markdown",
   "metadata": {},
   "source": [
    "# Preprocess & cleaning"
   ]
  },
  {
   "cell_type": "code",
   "execution_count": null,
   "metadata": {
    "execution": {
     "iopub.execute_input": "2022-01-13T22:06:49.09628Z",
     "iopub.status.busy": "2022-01-13T22:06:49.095645Z",
     "iopub.status.idle": "2022-01-13T22:06:49.102664Z",
     "shell.execute_reply": "2022-01-13T22:06:49.101829Z",
     "shell.execute_reply.started": "2022-01-13T22:06:49.096235Z"
    }
   },
   "outputs": [],
   "source": [
    "def process_text(text) : \n",
    "    \"\"\"\n",
    "    apply multiple transformation to the text to get better result like : \n",
    "       lowercase , remove punctuation/numbers... , stop words \n",
    "    \"\"\"\n",
    "    text = text.lower()\n",
    "    text = re.sub( r'[0-9]', '', text)\n",
    "    text = re.sub(r'[^\\w\\s]', '', text)\n",
    "    text = text.replace(\"\\n\" ,\"\")\n",
    "    text = text.strip()\n",
    "    \n",
    "    \n",
    "#     stop_words = set(stopwords.words('english'))\n",
    "#     text_tokenizer = word_tokenize(text)\n",
    "#     text = \" \".join([w for w in text_tokenizer if  w not in stop_words])\n",
    "    \n",
    "    return text "
   ]
  },
  {
   "cell_type": "code",
   "execution_count": null,
   "metadata": {
    "execution": {
     "iopub.execute_input": "2022-01-13T22:06:51.586095Z",
     "iopub.status.busy": "2022-01-13T22:06:51.585131Z",
     "iopub.status.idle": "2022-01-13T22:06:52.520268Z",
     "shell.execute_reply": "2022-01-13T22:06:52.519494Z",
     "shell.execute_reply.started": "2022-01-13T22:06:51.586039Z"
    }
   },
   "outputs": [],
   "source": [
    "train.text = train.text.apply(process_text)\n",
    "test.text = test.text.apply(process_text)"
   ]
  },
  {
   "cell_type": "code",
   "execution_count": null,
   "metadata": {},
   "outputs": [],
   "source": []
  },
  {
   "cell_type": "code",
   "execution_count": null,
   "metadata": {
    "execution": {
     "iopub.execute_input": "2022-01-13T22:07:08.609276Z",
     "iopub.status.busy": "2022-01-13T22:07:08.608663Z",
     "iopub.status.idle": "2022-01-13T22:07:10.483121Z",
     "shell.execute_reply": "2022-01-13T22:07:10.482312Z",
     "shell.execute_reply.started": "2022-01-13T22:07:08.609234Z"
    }
   },
   "outputs": [],
   "source": [
    "VOCAB_SIZE = 100000\n",
    "encoder = tf.keras.layers.TextVectorization(\n",
    "    max_tokens=VOCAB_SIZE)\n",
    "encoder.adapt(train[\"text\"])"
   ]
  },
  {
   "cell_type": "code",
   "execution_count": null,
   "metadata": {
    "execution": {
     "iopub.execute_input": "2022-01-13T22:08:03.536748Z",
     "iopub.status.busy": "2022-01-13T22:08:03.536481Z",
     "iopub.status.idle": "2022-01-13T22:08:03.541675Z",
     "shell.execute_reply": "2022-01-13T22:08:03.540685Z",
     "shell.execute_reply.started": "2022-01-13T22:08:03.536717Z"
    }
   },
   "outputs": [],
   "source": [
    "X= train.text\n",
    "y = train.iloc[:,1:24]"
   ]
  },
  {
   "cell_type": "code",
   "execution_count": null,
   "metadata": {
    "execution": {
     "iopub.execute_input": "2022-01-13T22:07:14.267861Z",
     "iopub.status.busy": "2022-01-13T22:07:14.267277Z",
     "iopub.status.idle": "2022-01-13T22:07:14.386225Z",
     "shell.execute_reply": "2022-01-13T22:07:14.385448Z",
     "shell.execute_reply.started": "2022-01-13T22:07:14.26782Z"
    }
   },
   "outputs": [],
   "source": [
    "vocab = np.array(encoder.get_vocabulary())\n",
    "#vocab[:100]\n",
    "print(len(vocab))"
   ]
  },
  {
   "cell_type": "markdown",
   "metadata": {},
   "source": [
    "# RNN LSTM "
   ]
  },
  {
   "cell_type": "code",
   "execution_count": null,
   "metadata": {
    "execution": {
     "iopub.execute_input": "2022-01-13T22:11:03.276874Z",
     "iopub.status.busy": "2022-01-13T22:11:03.276172Z",
     "iopub.status.idle": "2022-01-13T22:11:06.337571Z",
     "shell.execute_reply": "2022-01-13T22:11:06.336815Z",
     "shell.execute_reply.started": "2022-01-13T22:11:03.27683Z"
    }
   },
   "outputs": [],
   "source": [
    "model = tf.keras.Sequential([\n",
    "    encoder,\n",
    "    tf.keras.layers.Embedding(\n",
    "        input_dim=len(encoder.get_vocabulary()),\n",
    "        output_dim=128,\n",
    "        # Use masking to handle the variable sequence lengths\n",
    "        mask_zero=True),\n",
    "    tf.keras.layers.Bidirectional(tf.keras.layers.LSTM(64,return_sequences=True)),\n",
    "    tf.keras.layers.Bidirectional(tf.keras.layers.LSTM(32)),\n",
    "    tf.keras.layers.Dense(64, activation='relu'),\n",
    "    tf.keras.layers.Dense(23,activation = \"softmax\")\n",
    "])"
   ]
  },
  {
   "cell_type": "code",
   "execution_count": null,
   "metadata": {
    "execution": {
     "iopub.execute_input": "2022-01-13T22:11:09.396212Z",
     "iopub.status.busy": "2022-01-13T22:11:09.395703Z",
     "iopub.status.idle": "2022-01-13T22:15:41.972512Z",
     "shell.execute_reply": "2022-01-13T22:15:41.971697Z",
     "shell.execute_reply.started": "2022-01-13T22:11:09.396172Z"
    }
   },
   "outputs": [],
   "source": [
    "model.compile(loss='mean_squared_error',\n",
    "              optimizer=tf.keras.optimizers.Adam(),\n",
    "              metrics=['accuracy'])\n",
    "history = model.fit(X,y, epochs=15,\n",
    "#                     validation_data=test_dataset,\n",
    "#                     validation_steps=30\n",
    "                   )"
   ]
  },
  {
   "cell_type": "code",
   "execution_count": null,
   "metadata": {
    "execution": {
     "iopub.execute_input": "2022-01-13T22:15:52.78928Z",
     "iopub.status.busy": "2022-01-13T22:15:52.788692Z",
     "iopub.status.idle": "2022-01-13T22:16:02.361846Z",
     "shell.execute_reply": "2022-01-13T22:16:02.36105Z",
     "shell.execute_reply.started": "2022-01-13T22:15:52.789241Z"
    }
   },
   "outputs": [],
   "source": [
    "preds = model.predict(test.text)"
   ]
  },
  {
   "cell_type": "code",
   "execution_count": null,
   "metadata": {
    "execution": {
     "iopub.execute_input": "2022-01-13T22:16:04.972956Z",
     "iopub.status.busy": "2022-01-13T22:16:04.972374Z",
     "iopub.status.idle": "2022-01-13T22:16:04.977428Z",
     "shell.execute_reply": "2022-01-13T22:16:04.976293Z",
     "shell.execute_reply.started": "2022-01-13T22:16:04.972915Z"
    }
   },
   "outputs": [],
   "source": [
    " preds = np.round(preds,0).astype(int)"
   ]
  },
  {
   "cell_type": "code",
   "execution_count": null,
   "metadata": {
    "execution": {
     "iopub.execute_input": "2022-01-13T22:16:09.943602Z",
     "iopub.status.busy": "2022-01-13T22:16:09.943338Z",
     "iopub.status.idle": "2022-01-13T22:16:09.948226Z",
     "shell.execute_reply": "2022-01-13T22:16:09.947329Z",
     "shell.execute_reply.started": "2022-01-13T22:16:09.943572Z"
    }
   },
   "outputs": [],
   "source": [
    "filename = list(test['filename'].values)"
   ]
  },
  {
   "cell_type": "code",
   "execution_count": null,
   "metadata": {
    "execution": {
     "iopub.execute_input": "2022-01-13T22:16:12.968173Z",
     "iopub.status.busy": "2022-01-13T22:16:12.967616Z",
     "iopub.status.idle": "2022-01-13T22:16:12.97324Z",
     "shell.execute_reply": "2022-01-13T22:16:12.972359Z",
     "shell.execute_reply.started": "2022-01-13T22:16:12.968134Z"
    }
   },
   "outputs": [],
   "source": [
    "submission = pd.DataFrame(preds, columns=['target_00', 'target_01',\t'target_02', 'target_03','target_04',\n",
    "                             'target_05','target_06','target_07', 'target_08', 'target_09',\n",
    "                             'target_10','target_11','target_12','target_13','target_14', 'target_15',\n",
    "                             'target_16', 'target_17', 'target_18', 'target_19', 'target_20',\n",
    "                             'target_21', 'target_22'])"
   ]
  },
  {
   "cell_type": "code",
   "execution_count": null,
   "metadata": {
    "execution": {
     "iopub.execute_input": "2022-01-13T22:16:17.723166Z",
     "iopub.status.busy": "2022-01-13T22:16:17.722395Z",
     "iopub.status.idle": "2022-01-13T22:16:17.733895Z",
     "shell.execute_reply": "2022-01-13T22:16:17.733079Z",
     "shell.execute_reply.started": "2022-01-13T22:16:17.723112Z"
    }
   },
   "outputs": [],
   "source": [
    "submission['filename'] = filename"
   ]
  },
  {
   "cell_type": "code",
   "execution_count": null,
   "metadata": {
    "execution": {
     "iopub.execute_input": "2022-01-13T22:16:19.57449Z",
     "iopub.status.busy": "2022-01-13T22:16:19.573918Z",
     "iopub.status.idle": "2022-01-13T22:16:19.621029Z",
     "shell.execute_reply": "2022-01-13T22:16:19.620283Z",
     "shell.execute_reply.started": "2022-01-13T22:16:19.57445Z"
    }
   },
   "outputs": [],
   "source": [
    "submission.to_csv('submission.csv', index=False)"
   ]
  },
  {
   "cell_type": "code",
   "execution_count": null,
   "metadata": {},
   "outputs": [],
   "source": []
  }
 ],
 "metadata": {
  "kernelspec": {
   "display_name": "Python 3",
   "language": "python",
   "name": "python3"
  },
  "language_info": {
   "codemirror_mode": {
    "name": "ipython",
    "version": 3
   },
   "file_extension": ".py",
   "mimetype": "text/x-python",
   "name": "python",
   "nbconvert_exporter": "python",
   "pygments_lexer": "ipython3",
   "version": "3.7.6"
  }
 },
 "nbformat": 4,
 "nbformat_minor": 4
}
